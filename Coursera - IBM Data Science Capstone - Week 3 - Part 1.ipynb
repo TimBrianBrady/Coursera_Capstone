{
    "nbformat_minor": 1, 
    "cells": [
        {
            "source": "# IBM Data Science Professional Certificate\n## Part 9: Applied Data Science Capstone - Week 3", 
            "cell_type": "markdown", 
            "metadata": {
                "collapsed": true
            }
        }, 
        {
            "source": "For this assignment, I am exploring and clustering the neighborhoods in Toronto.", 
            "cell_type": "markdown", 
            "metadata": {}
        }, 
        {
            "source": "### Problem 1: Create a new Notebook - Done.", 
            "cell_type": "markdown", 
            "metadata": {}
        }, 
        {
            "source": "### Problem 2: Scrape the data from Wikipedia", 
            "cell_type": "markdown", 
            "metadata": {}
        }, 
        {
            "execution_count": 1, 
            "cell_type": "code", 
            "metadata": {}, 
            "outputs": [
                {
                    "output_type": "stream", 
                    "name": "stdout", 
                    "text": "Done importing.\n"
                }
            ], 
            "source": "#Import pandas, numpy, requests, and BeautifulSoup\nimport pandas as pd\nimport numpy as np\n\nimport requests\nfrom bs4 import BeautifulSoup\n\nprint('Done importing.')"
        }, 
        {
            "execution_count": 2, 
            "cell_type": "code", 
            "metadata": {}, 
            "outputs": [], 
            "source": "#assign the get request to a variable\nwebsite_url = requests.get(\"https://en.wikipedia.org/wiki/List_of_postal_codes_of_Canada:_M\")"
        }, 
        {
            "execution_count": 3, 
            "cell_type": "code", 
            "metadata": {}, 
            "outputs": [
                {
                    "execution_count": 3, 
                    "metadata": {}, 
                    "data": {
                        "text/plain": "200"
                    }, 
                    "output_type": "execute_result"
                }
            ], 
            "source": "#check the status of the request - should read 200 for success.\nwebsite_url.status_code"
        }, 
        {
            "execution_count": 4, 
            "cell_type": "code", 
            "metadata": {}, 
            "outputs": [], 
            "source": "#Pull the html from the website as text\nfullPage = BeautifulSoup(website_url.text,\"lxml\")\n#print(fullPage.prettify())      \n#uncomment print to see all the webpage html - takes up too much space, so commented out."
        }, 
        {
            "source": "### Problem 3 - Turn the scraped Wikipedia data into a pandas dataframe.", 
            "cell_type": "markdown", 
            "metadata": {}
        }, 
        {
            "execution_count": 5, 
            "cell_type": "code", 
            "metadata": {}, 
            "outputs": [], 
            "source": "#Isolate just the table.\nwikiTable = fullPage.find(\"table\",{\"class\":\"wikitable sortable\"})"
        }, 
        {
            "execution_count": 6, 
            "cell_type": "code", 
            "metadata": {}, 
            "outputs": [], 
            "source": "#Isolate just the rows in the table.\ntableRows = wikiTable.findAll('tr')"
        }, 
        {
            "source": "Sub-criteria 1: The dataframe will consist of three columns: PostalCode, Borough, and Neighborhood", 
            "cell_type": "markdown", 
            "metadata": {}
        }, 
        {
            "execution_count": 7, 
            "cell_type": "code", 
            "metadata": {}, 
            "outputs": [], 
            "source": "#Loop through the rows of the table and add them to a dataframe\npostCode = []\nfor tr in tableRows:\n    td = tr.findAll('td')\n    row = [tr.text for tr in td] # .text is important here so we don't get html tags.\n    if row:\n            postCode.append(row)\n            \ndf = pd.DataFrame(postCode,columns=[\"PostalCode\", \"Borough\", \"Neighbourhood\"])\n\n#Clean up the messy carriage returns.\ndf = df.replace(r\"\\n\",\"\", regex=True)\n\n#Display the dataframe\n#df      #uncomment df to view ~ Still has \"Not Assigned\""
        }, 
        {
            "source": "Sub-criteria 2: Ignore cells with a Borough that is \"Not Assigned\"", 
            "cell_type": "markdown", 
            "metadata": {}
        }, 
        {
            "execution_count": 8, 
            "cell_type": "code", 
            "metadata": {}, 
            "outputs": [], 
            "source": "#ignore cells with Burrow = \"Not assigned\"\ndf = df[df.Borough != \"Not assigned\"]\n\n#Display the dataframe\n#df      #uncomment df to view ~ Still needs to be grouped"
        }, 
        {
            "source": "Sub-criteria 3: Group neighbourhoods based on their PostalCode; comma separated.", 
            "cell_type": "markdown", 
            "metadata": {}
        }, 
        {
            "execution_count": 9, 
            "cell_type": "code", 
            "metadata": {}, 
            "outputs": [], 
            "source": "#Grouping Neighborhoods by PostalCode and Borough - comma separated.\ndf = df.groupby(['PostalCode', 'Borough'])['Neighbourhood'].agg(lambda x: ', '.join(set(x))).reset_index()\n\n#Display the dataframe\n#df      #uncomment df to view ~ Still need to assign \"Not Assigned\" Neighborhoods to Borough name.\n\n#Check M5A from example to make sure it matches.\n#df.loc[df[\"PostalCode\"] == \"M5A\"]      #uncomment to view check"
        }, 
        {
            "source": "Sub-criteria 4: If Borough has name and Neighbourhood does not, use Borough name as Neighborhood name. (See M7A.)", 
            "cell_type": "markdown", 
            "metadata": {}
        }, 
        {
            "execution_count": 10, 
            "cell_type": "code", 
            "metadata": {}, 
            "outputs": [
                {
                    "execution_count": 10, 
                    "metadata": {}, 
                    "data": {
                        "text/html": "<div>\n<style scoped>\n    .dataframe tbody tr th:only-of-type {\n        vertical-align: middle;\n    }\n\n    .dataframe tbody tr th {\n        vertical-align: top;\n    }\n\n    .dataframe thead th {\n        text-align: right;\n    }\n</style>\n<table border=\"1\" class=\"dataframe\">\n  <thead>\n    <tr style=\"text-align: right;\">\n      <th></th>\n      <th>PostalCode</th>\n      <th>Borough</th>\n      <th>Neighbourhood</th>\n    </tr>\n  </thead>\n  <tbody>\n    <tr>\n      <th>85</th>\n      <td>M7A</td>\n      <td>Queen's Park</td>\n      <td>Not assigned</td>\n    </tr>\n  </tbody>\n</table>\n</div>", 
                        "text/plain": "   PostalCode       Borough Neighbourhood\n85        M7A  Queen's Park  Not assigned"
                    }, 
                    "output_type": "execute_result"
                }
            ], 
            "source": "#Check how many rows need fixed.\ndf[df[\"Neighbourhood\"].str.contains(\"Not assign\")]"
        }, 
        {
            "execution_count": 11, 
            "cell_type": "code", 
            "metadata": {}, 
            "outputs": [
                {
                    "execution_count": 11, 
                    "metadata": {}, 
                    "data": {
                        "text/html": "<div>\n<style scoped>\n    .dataframe tbody tr th:only-of-type {\n        vertical-align: middle;\n    }\n\n    .dataframe tbody tr th {\n        vertical-align: top;\n    }\n\n    .dataframe thead th {\n        text-align: right;\n    }\n</style>\n<table border=\"1\" class=\"dataframe\">\n  <thead>\n    <tr style=\"text-align: right;\">\n      <th></th>\n      <th>PostalCode</th>\n      <th>Borough</th>\n      <th>Neighbourhood</th>\n    </tr>\n  </thead>\n  <tbody>\n    <tr>\n      <th>85</th>\n      <td>M7A</td>\n      <td>Queen's Park</td>\n      <td>Queen's Park</td>\n    </tr>\n  </tbody>\n</table>\n</div>", 
                        "text/plain": "   PostalCode       Borough Neighbourhood\n85        M7A  Queen's Park  Queen's Park"
                    }, 
                    "output_type": "execute_result"
                }
            ], 
            "source": "#replace unassigned Neighborhoods with Borough name\ndf[\"Neighbourhood\"] = np.where(df[\"Neighbourhood\"].str.contains(\"Not assign\"), df[\"Borough\"], df[\"Neighbourhood\"])\n\n#Check M7A from example to make sure it matches.\ndf.loc[df[\"PostalCode\"] == \"M7A\"]      #uncomment to view check"
        }, 
        {
            "execution_count": 12, 
            "cell_type": "code", 
            "metadata": {}, 
            "outputs": [], 
            "source": "#df     #uncomment df to view"
        }, 
        {
            "execution_count": 13, 
            "cell_type": "code", 
            "metadata": {}, 
            "outputs": [
                {
                    "execution_count": 13, 
                    "metadata": {}, 
                    "data": {
                        "text/plain": "(103, 3)"
                    }, 
                    "output_type": "execute_result"
                }
            ], 
            "source": "df.shape"
        }, 
        {
            "source": "### Problem 4: Submit a link to Notebook on Github.\n ~~ Should have worked if you're reading this ~~", 
            "cell_type": "markdown", 
            "metadata": {}
        }, 
        {
            "execution_count": null, 
            "cell_type": "code", 
            "metadata": {}, 
            "outputs": [], 
            "source": ""
        }
    ], 
    "metadata": {
        "kernelspec": {
            "display_name": "Python 3.5", 
            "name": "python3", 
            "language": "python"
        }, 
        "language_info": {
            "mimetype": "text/x-python", 
            "nbconvert_exporter": "python", 
            "version": "3.5.5", 
            "name": "python", 
            "file_extension": ".py", 
            "pygments_lexer": "ipython3", 
            "codemirror_mode": {
                "version": 3, 
                "name": "ipython"
            }
        }
    }, 
    "nbformat": 4
}