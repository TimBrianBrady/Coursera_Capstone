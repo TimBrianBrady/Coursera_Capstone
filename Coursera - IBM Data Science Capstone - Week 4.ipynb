{
    "nbformat_minor": 1, 
    "cells": [
        {
            "source": "# IBM Data Science Professional Certificate\n## Part 9: Applied Data Science Capstone - Week 4", 
            "cell_type": "markdown", 
            "metadata": {
                "collapsed": true
            }
        }, 
        {
            "source": "##### Week 4 - Part 1: Introduction / Business Problem", 
            "cell_type": "markdown", 
            "metadata": {}
        }, 
        {
            "source": "<b>Assignment:</b> Clearly define a problem or an idea of your choice, where you would need to leverage the Foursquare location data to solve or execute. Remember that data science problems always target an audience and are meant to help a group of stakeholders solve a problem, so make sure that you explicitly describe your audience and why they would care about your problem.\n\nThis submission will eventually become your Introduction/Business Problem section in your final report. So I recommend that you push the report (having your Introduction/Business Problem section only for now) to your Github repository and submit a link to it.", 
            "cell_type": "markdown", 
            "metadata": {}
        }, 
        {
            "source": "<b>Current Idea:</b> Robins Air Force Base sits right outside Warner Robins and is a major employer in the state of Georgia. Anyone that's visited the town of Warner Robins quickly realizes that there are an abundance of restaurants in the town. \n\nI have a friend that has gotten the entrepreneurial spirit and wants to start a business. He is set on starting a restaurant and has asked for my help to figure out what kind and where to put it. He doesn't care what type of restaurant, but he wants it to be successful (and near his home in the city.)\n\nI have decided to help him by using Foursquare data to map out the current restaurants in Warner Robins and identify restaurant types that are well established in other parts of town, but under-represented in his part of town. From there, I will further identify potential locations near his home. \n\nWhen complete, I hope to be able to offer him a location and type of restaurant suggestion based on current data, which he can then take and start doing more research on his own.", 
            "cell_type": "markdown", 
            "metadata": {}
        }, 
        {
            "source": "~~~", 
            "cell_type": "markdown", 
            "metadata": {}
        }, 
        {
            "source": "##### Week 4 - Part 2: The Data", 
            "cell_type": "markdown", 
            "metadata": {}
        }, 
        {
            "source": "<b>Assignment:</b> Describe the data that you will be using to solve the problem or execute your idea. Remember that you will need to use the Foursquare location data to solve the problem or execute your idea. You can absolutely use other datasets in combination with the Foursquare location data. So make sure that you provide adequate explanation and discussion, with examples, of the data that you will be using, even if it is only Foursquare location data.\n\nThis submission will eventually become your Data section in your final report. So I recommend that you push the report (having your Data section) to your Github repository and submit a link to it.", 
            "cell_type": "markdown", 
            "metadata": {}
        }, 
        {
            "source": "<b>General Idea:</b> I want to take FourSquare data for Warner Robins restaurants and try to identify style of restaurant based on venue category. From there, I will do k-means clustering and find the optimal K to get an understanding of how the area is actually segmented by restaurants, then within one cluster, I want to find a style of restaurant that is highly represented in other clusters, but not in the selected.\n\n<i>More specific version:</i>\n\n<b>Step 1:</b> Get an understanding of how Warner Robins is currently segmented for all restaurants by performing k-means clustering, and searching for the optimal k.\n    To do this, I will use Foursquare Venue Categories that contain \"Restaurant\" as part of the category name for the data to perform k-means clustering.\n\n<b>Step 2:</b> Given optimal-k clusters, I want to rank the top 5-10 types of restaurants within each cluster.\n\n<b>Step 3:</b> I will then choose a cluster. I'll assume my client lives in a given cluster and would want to start a business there.\n\n<b>Step 4:</b> I want to compare the top 5-10 types of restaurants within each cluster to the chosen cluster and determine dissimilarities.\n    This will provide insight because if a certain restaurant is well represented on the east side of town (for example) and under-represented on the west side of town, there is an opportunity to establish a new restaurant on the west side.\n    \n<b>Step 5:</b> Choose a restaurant type. Ideal type would be highly represented in other clusters, but lowly represented in the chosen cluster.\n\n<b>Step 6:</b> If the clusters are still rather large, do another round of clustering on the chosen cluster to try and identify a more specific area to locate a restaurant. I would want to recommend a location for the restaurant near other, but dissimilar restaurants.\n\n<b>Step 7:</b> Choose a location. At this point we should be able to say I think you should start X restaurant around Y location.", 
            "cell_type": "markdown", 
            "metadata": {}
        }, 
        {
            "execution_count": null, 
            "cell_type": "code", 
            "metadata": {}, 
            "outputs": [], 
            "source": ""
        }
    ], 
    "metadata": {
        "kernelspec": {
            "display_name": "Python 3.5", 
            "name": "python3", 
            "language": "python"
        }, 
        "language_info": {
            "mimetype": "text/x-python", 
            "nbconvert_exporter": "python", 
            "version": "3.5.5", 
            "name": "python", 
            "file_extension": ".py", 
            "pygments_lexer": "ipython3", 
            "codemirror_mode": {
                "version": 3, 
                "name": "ipython"
            }
        }
    }, 
    "nbformat": 4
}